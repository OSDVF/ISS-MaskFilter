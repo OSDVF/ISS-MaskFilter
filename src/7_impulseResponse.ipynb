{
 "metadata": {
  "language_info": {
   "codemirror_mode": {
    "name": "ipython",
    "version": 3
   },
   "file_extension": ".py",
   "mimetype": "text/x-python",
   "name": "python",
   "nbconvert_exporter": "python",
   "pygments_lexer": "ipython3",
   "version": "3.7.3-final"
  },
  "orig_nbformat": 2,
  "kernelspec": {
   "name": "python3",
   "display_name": "Python 3.7.3 64-bit",
   "metadata": {
    "interpreter": {
     "hash": "0600588c3b5f4418cbe7b5ebc6825b479f3bc010269d8b60d75058cdd010adfe"
    }
   }
  }
 },
 "nbformat": 4,
 "nbformat_minor": 2,
 "cells": [
  {
   "cell_type": "code",
   "execution_count": null,
   "metadata": {},
   "outputs": [],
   "source": [
    "%run getSpectrograms.py"
   ]
  },
  {
   "source": [
    "## Vlastní implementace IDFT"
   ],
   "cell_type": "markdown",
   "metadata": {}
  },
  {
   "cell_type": "code",
   "execution_count": null,
   "metadata": {},
   "outputs": [],
   "source": [
    "def idft(source, N):\n",
    "    result = []\n",
    "    for k in range(N):\n",
    "        sum = np.complex(0,0)\n",
    "        for n in range(N):\n",
    "            exponent = 2j * np.pi * n * (k/float(N))\n",
    "            sum += (source[n] * np.exp(exponent)) / N\n",
    "        result.append(sum)\n",
    "\n",
    "    return result"
   ]
  },
  {
   "cell_type": "code",
   "execution_count": null,
   "metadata": {},
   "outputs": [],
   "source": [
    "H_ifft = np.fft.irfft(H,1024)\n",
    "H_cifft = idft(H, 1024)"
   ]
  },
  {
   "cell_type": "code",
   "execution_count": null,
   "metadata": {},
   "outputs": [],
   "source": [
    "plt.plot(H_ifft[0:512], label=\"np.fft.ifft\")\n",
    "plt.plot(H_cifft[0:512], label=\"Vlastní IDFT\")\n",
    "plt.gca().set_xlabel('Vzorky')\n",
    "plt.gca().set_ylabel('Koeficient')\n",
    "plt.legend()"
   ]
  },
  {
   "source": [
    "# 8. Simulace roušky"
   ],
   "cell_type": "markdown",
   "metadata": {}
  },
  {
   "cell_type": "code",
   "execution_count": null,
   "metadata": {},
   "outputs": [],
   "source": [
    "from scipy import signal\n",
    "_, sentence = wavfile.read('../audio/maskoff_sentence.wav')\n",
    "_, sentence_on = wavfile.read('../audio/maskon_sentence.wav')\n",
    "senNorm = np.max(np.abs(sentence))\n",
    "toneNorm = np.max(np.abs(tmf))\n",
    "sentence_sim = signal.lfilter(H_ifft[0:512], [1], sentence)\n",
    "tone_sim = signal.lfilter(H_ifft[0:512], [1], tmf)\n",
    "\n",
    "import soundfile as sf\n",
    "sf.write('../audio/sim_maskon_sentence.wav', sentence_sim / 32767, int(Fs))\n",
    "sf.write('../audio/sim_maskon_tone.wav', tone_sim / 32767, int(Fs))"
   ]
  },
  {
   "cell_type": "code",
   "execution_count": null,
   "metadata": {},
   "outputs": [],
   "source": [
    "plt.plot(sentence_sim, linewidth=0.5,label=\"Věta se simulovanou rouškou\")\n",
    "plt.plot(sentence,linewidth=0.5,alpha=0.5, label=\"Věta bez roušky\")\n",
    "plt.legend()\n",
    "\n",
    "plt.figure()\n",
    "plt.plot(tone_sim, linewidth=0.5, label=\"tone sim\")\n",
    "plt.plot(tmf, linewidth=0.5,alpha=0.5, label=\"tone mask oof\")\n",
    "plt.legend()\n",
    "\n",
    "plt.figure()\n",
    "plt.plot(sentence_sim, linewidth=0.5, label=\"Věta se simulovanou rouškou\")\n",
    "plt.plot(sentence_on,linewidth=0.5,alpha=0.5, label=\"Věta s rouškou\")\n",
    "plt.legend()\n",
    "\n",
    "plt.figure()\n",
    "plt.plot(tone_sim, linewidth=0.5, label=\"tone sim\")\n",
    "plt.plot(tmn, linewidth=0.5,alpha=0.5,label=\"tone mask on\")\n",
    "plt.legend()"
   ]
  },
  {
   "source": [
    "Popište jak se od sebe liší signál z rouškou a ten na kterém roušku jenom simulujeme. Jsou signály podobné? Kde se nejvíce podobají a kde liší?\n",
    "\n",
    "- Signály jsou si velmi podobné už jen proto, že původní signály si byly podobné\n",
    "- Liší se v místech, kde se mi nepodařilo udělat tón/větu tak přesné. Nejvíce podobné jsou v místech, kde je tón nejstabilnější. Nejvíce patrné je zmenšení hlasitosti celého signálu\n"
   ],
   "cell_type": "markdown",
   "metadata": {}
  }
 ]
}