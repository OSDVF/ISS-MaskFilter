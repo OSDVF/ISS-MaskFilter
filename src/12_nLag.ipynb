{
 "metadata": {
  "language_info": {
   "codemirror_mode": {
    "name": "ipython",
    "version": 3
   },
   "file_extension": ".py",
   "mimetype": "text/x-python",
   "name": "python",
   "nbconvert_exporter": "python",
   "pygments_lexer": "ipython3",
   "version": "3.7.3-final"
  },
  "orig_nbformat": 2,
  "kernelspec": {
   "name": "python3",
   "display_name": "Python 3.7.3 64-bit",
   "metadata": {
    "interpreter": {
     "hash": "0600588c3b5f4418cbe7b5ebc6825b479f3bc010269d8b60d75058cdd010adfe"
    }
   }
  }
 },
 "nbformat": 4,
 "nbformat_minor": 2,
 "cells": [
  {
   "cell_type": "code",
   "execution_count": null,
   "metadata": {},
   "outputs": [],
   "source": [
    "%run getFrequencies.py"
   ]
  },
  {
   "cell_type": "code",
   "execution_count": null,
   "metadata": {},
   "outputs": [],
   "source": [
    "xAxis = [x/16000.0 for x in range(0,frameSize)]\n",
    "targetFrameIndex = 97\n",
    "targetStart = int(targetFrameIndex*(frameSize/2))\n",
    "\n",
    "TMNtarget = TMNcent[targetStart:targetStart + frameSize].copy()\n",
    "maxIndex = np.argmax(TMNcorr[targetFrameIndex][minLag:frameSize]) + minLag\n",
    "\n",
    "fig, axs = plt.subplots(4,1)\n",
    "\n",
    "# Vyplotit rámec s detekcí n-násobného lagu\n",
    "axs[0].set_title('Rámec 97 s rouškou')\n",
    "axs[0].plot(xAxis, TMNtarget)\n",
    "axs[1].plot(xAxis, centralClipping(TMNcent[targetStart:targetStart+frameSize]))\n",
    "\n",
    "black_line = mlines.Line2D([], [], color='black', label='Práh')\n",
    "red_line = mlines.Line2D([], [], color='red', label='Lag')\n",
    "axs[2].plot(TMNcorr[targetFrameIndex])\n",
    "axs[2].axvline(minLag, color='black')\n",
    "axs[2].axvline(maxIndex, color='red')\n",
    "axs[2].legend(bbox_to_anchor=(1, 1), handles=[red_line, black_line])\n",
    "\n",
    "axs[3].plot(TMFfreqs, label=\"Bez roušky\")\n",
    "axs[3].plot(TMNfreqs, label=\"S rouškou\")\n",
    "axs[3].legend()\n",
    "\n",
    "plt.tight_layout()"
   ]
  },
  {
   "source": [
    "## Aplikace mediánového filtru\n",
    "k = 2"
   ],
   "cell_type": "markdown",
   "metadata": {}
  },
  {
   "cell_type": "code",
   "execution_count": null,
   "metadata": {},
   "outputs": [],
   "source": [
    "def medianFilter(source,k):\n",
    "    N = len(source)\n",
    "    medianArray = np.empty(N)\n",
    "    for i in range(0, N):\n",
    "        valuesToMedian = []\n",
    "        for j in range(i-k, i+k+1):\n",
    "            j = np.clip(j, 0, N - 1)\n",
    "            valuesToMedian.append(source[j])\n",
    "\n",
    "        medianArray[i] = np.median(valuesToMedian)\n",
    "    return medianArray\n",
    "\n",
    "TMNmedian = medianFilter(TMNfreqs, 2)\n",
    "TMFmedian = medianFilter(TMFfreqs, 2)\n",
    "\n",
    "black_line = mlines.Line2D([], [], color='black', label='Práh')\n",
    "red_line = mlines.Line2D([], [], color='red', label='Lag')\n",
    "plt.axvline(minLag, color='black')\n",
    "plt.axvline(maxIndex, color='red')\n",
    "plt.gca().set_title('Korelační koeficienty rámce 97 s rouškou')\n",
    "plt.plot(TMNcorr[97])\n",
    "plt.legend(bbox_to_anchor=(1, 1), handles=[red_line, black_line])\n",
    "\n",
    "plt.figure()\n",
    "plt.plot(TMFmedian, label=\"Bez roušky\")\n",
    "plt.plot(TMNmedian, label=\"S rouškou\")\n",
    "plt.legend()"
   ]
  },
  {
   "source": [
    "Chyba byla odstraněna použitím nelineárního mediánového 'filtru'"
   ],
   "cell_type": "markdown",
   "metadata": {}
  }
 ]
}