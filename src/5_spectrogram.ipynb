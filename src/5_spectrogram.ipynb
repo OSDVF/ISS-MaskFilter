{
 "metadata": {
  "language_info": {
   "codemirror_mode": {
    "name": "ipython",
    "version": 3
   },
   "file_extension": ".py",
   "mimetype": "text/x-python",
   "name": "python",
   "nbconvert_exporter": "python",
   "pygments_lexer": "ipython3",
   "version": "3.7.3-final"
  },
  "orig_nbformat": 2,
  "kernelspec": {
   "name": "python3",
   "display_name": "Python 3.7.3 64-bit",
   "metadata": {
    "interpreter": {
     "hash": "0600588c3b5f4418cbe7b5ebc6825b479f3bc010269d8b60d75058cdd010adfe"
    }
   }
  }
 },
 "nbformat": 4,
 "nbformat_minor": 2,
 "cells": [
  {
   "cell_type": "code",
   "execution_count": null,
   "metadata": {},
   "outputs": [],
   "source": [
    "%run getSpectrograms.py"
   ]
  },
  {
   "cell_type": "code",
   "execution_count": null,
   "metadata": {},
   "outputs": [],
   "source": [
    "plt.rcParams[\"image.interpolation\"] = 'nearest'\n",
    "plt.gca().set_title('Spektrogram bez roušky')\n",
    "plt.gca().set_xlabel('Čas [s]')\n",
    "plt.gca().set_ylabel('Frekvence [Hz]')\n",
    "plt.imshow(TMF_trans, origin='lower', aspect='auto', extent = [0 , 1.0, 0 , 8000])\n",
    "cbar = plt.colorbar()\n",
    "cbar.set_label('Spektralní hustota výkonu [dB]', rotation=270, labelpad=15)\n",
    "plt.figure()\n",
    "\n",
    "plt.gca().set_title('Spektrogram s rouškou')\n",
    "plt.gca().set_xlabel('Čas [s]')\n",
    "plt.gca().set_ylabel('Frekvence [Hz]')\n",
    "plt.imshow(TMN_trans, origin='lower', aspect='auto', extent = [0 , 1.0, 0 , 8000])\n",
    "cbar = plt.colorbar()\n",
    "cbar.set_label('Spektralní hustota výkonu [dB]', rotation=270, labelpad=15)"
   ]
  },
  {
   "source": [
    "## Funkce implementující DFT"
   ],
   "cell_type": "markdown",
   "metadata": {}
  },
  {
   "cell_type": "code",
   "execution_count": null,
   "metadata": {
    "tags": []
   },
   "outputs": [],
   "source": [
    "def dft(source, N):\n",
    "    result = []\n",
    "    padded = np.pad(source,(0,N-len(source)))\n",
    "    for k in range(N):\n",
    "        sum = np.complex(0,0)\n",
    "        for n in range(N):\n",
    "            exponent = -2j * np.pi * n * (k/float(N))\n",
    "            sum += padded[n] * np.exp(exponent)\n",
    "        result.append(20*np.log10(np.abs(sum)))\n",
    "\n",
    "    return result\n",
    "\n",
    "TMF_cust0 = dft(TMFframes[0],1024)[0:512]\n",
    "TMF_cust1 = dft(TMFframes[1],1024)[0:512]\n",
    "\n",
    "plt.gca().set_title('Mask off')\n",
    "plt.plot(TMF_cust0, label=\"Vlastní DFT\")\n",
    "plt.plot(TMF_spect[0], label=\"NumPy\")\n",
    "plt.legend()\n",
    "\n",
    "plt.figure()\n",
    "plt.gca().set_title('Mask on')\n",
    "plt.plot(TMF_cust1, label=\"Vlastní DFT\")\n",
    "plt.plot(TMF_spect[1], label=\"NumPy\")\n",
    "plt.legend()"
   ]
  },
  {
   "source": [
    "## Výsledek porovnání\n",
    "NumPy je rychlejší, jinak žádný rozdíl\n",
    "\n",
    "## H(e^jw)\n",
    "### Vztah pro výpočet H\n",
    "H(e^jw) = B(e^jw) / A(e^jw)  \n",
    "H(e^jw) = (((SUMA i od 0 do 99 z DFT_rámce_Bi)/100) / ((SUMA i od 0 do 99 z DFT_rámce_Ai)/100))\n"
   ],
   "cell_type": "markdown",
   "metadata": {}
  },
  {
   "cell_type": "code",
   "execution_count": null,
   "metadata": {},
   "outputs": [],
   "source": [
    "H_PSD = 20*np.log10(np.abs(H[0:512]))\n",
    "H = np.divide(TMN_ave,TMF_ave)\n",
    "\n",
    "plt.gca().set_title('Frekvenční charakteristika rouškového filtru')\n",
    "plt.gca().set_ylabel('PSD [dB]')\n",
    "plt.gca().set_xlabel('Frekvence [Hz]')\n",
    "plt.plot(np.arange(0,Fs/2, Fs/2/512),H_PSD[0:512])"
   ]
  },
  {
   "source": [
    "## Krátký komentář k filmu\n",
    "TODO"
   ],
   "cell_type": "markdown",
   "metadata": {}
  },
  {
   "source": [
    "# Freqz way\n",
    "from scipy import signal\n",
    "#w, H2 = signal.freqz(TMNcorr, TMFcorr, worN=100)\n",
    "#plt.plot(H2)\n",
    "f, t, sgr = signal.spectrogram(TMNcent, 16000, nperseg=320, nfft=1024)\n",
    "# prevod na PSD\n",
    "# (ve spektrogramu se obcas objevuji nuly, ktere se nelibi logaritmu, proto +1e-20)\n",
    "sgr_log = 10 * np.log10(sgr+1e-20) \n",
    "plt.figure(figsize=(9,3))\n",
    "plt.imshow(sgr_log, origin='lower', aspect='auto', extent = [0 , 1.0, 0 , 8000])\n",
    "plt.gca().set_xlabel('Čas [s]')\n",
    "plt.gca().set_ylabel('Frekvence [Hz]')\n",
    "cbar = plt.colorbar()\n",
    "cbar.set_label('Spektralní hustota výkonu [dB]', rotation=270, labelpad=15)\n",
    "\n",
    "plt.tight_layout()"
   ],
   "cell_type": "markdown",
   "metadata": {}
  },
  {
   "cell_type": "code",
   "execution_count": null,
   "metadata": {},
   "outputs": [],
   "source": []
  }
 ]
}