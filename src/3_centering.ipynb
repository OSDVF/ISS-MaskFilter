{
 "metadata": {
  "language_info": {
   "codemirror_mode": {
    "name": "ipython",
    "version": 3
   },
   "file_extension": ".py",
   "mimetype": "text/x-python",
   "name": "python",
   "nbconvert_exporter": "python",
   "pygments_lexer": "ipython3",
   "version": "3.7.3-final"
  },
  "orig_nbformat": 2,
  "kernelspec": {
   "name": "python3",
   "display_name": "Python 3.7.3 64-bit",
   "metadata": {
    "interpreter": {
     "hash": "0600588c3b5f4418cbe7b5ebc6825b479f3bc010269d8b60d75058cdd010adfe"
    }
   }
  }
 },
 "nbformat": 4,
 "nbformat_minor": 2,
 "cells": [
  {
   "cell_type": "code",
   "execution_count": null,
   "metadata": {},
   "outputs": [],
   "source": [
    "%run centering.py"
   ]
  },
  {
   "source": [
    "## Výpočet počtu rámců\n",
    "- Vzorkovací frekvence: 16 kHz\n",
    "- Tone_Maskoff chci od 1. sekudny do 2. sekundy a 10 ms (+1 rámec navíc)\n",
    "\n",
    "Takže od 16k*1 do 16k*2.01\n",
    "\n",
    "- Tone_Maskon chci od 1,60s do 2,6 s\n",
    "\n",
    "Takže 16k*1.6 do 16k*2.61\n",
    "\n",
    "## Výpočet velikosti rámců ve vzorcích\n",
    "DO PROKOTOLU  \n",
    "`(16000/100)*2`\n"
   ],
   "cell_type": "markdown",
   "metadata": {}
  },
  {
   "cell_type": "code",
   "execution_count": null,
   "metadata": {},
   "outputs": [],
   "source": [
    "frameSize = int((16000/100)*2)\n",
    "plt.plot(TMFcent[0:frameSize], label=\"Tón bez roušky\")\n",
    "plt.plot(TMNcent[0:frameSize], label=\"Tón s rouškou\")\n",
    "plt.legend()\n",
    "plt.show()\n"
   ]
  },
  {
   "cell_type": "code",
   "execution_count": null,
   "metadata": {},
   "outputs": [],
   "source": []
  }
 ]
}