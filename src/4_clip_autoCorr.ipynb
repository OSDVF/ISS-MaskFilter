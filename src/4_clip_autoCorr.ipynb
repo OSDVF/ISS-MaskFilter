{
 "metadata": {
  "language_info": {
   "codemirror_mode": {
    "name": "ipython",
    "version": 3
   },
   "file_extension": ".py",
   "mimetype": "text/x-python",
   "name": "python",
   "nbconvert_exporter": "python",
   "pygments_lexer": "ipython3",
   "version": "3.7.3-final"
  },
  "orig_nbformat": 2,
  "kernelspec": {
   "name": "python3",
   "display_name": "Python 3.7.3 64-bit",
   "metadata": {
    "interpreter": {
     "hash": "0600588c3b5f4418cbe7b5ebc6825b479f3bc010269d8b60d75058cdd010adfe"
    }
   }
  }
 },
 "nbformat": 4,
 "nbformat_minor": 2,
 "cells": [
  {
   "source": [
    "Vypočítání základních frekvencí pro všechny rámce"
   ],
   "cell_type": "markdown",
   "metadata": {}
  },
  {
   "source": [
    "%run getFrequencies.py"
   ],
   "cell_type": "code",
   "metadata": {
    "tags": []
   },
   "execution_count": null,
   "outputs": []
  },
  {
   "source": [
    "## Plotování"
   ],
   "cell_type": "markdown",
   "metadata": {}
  },
  {
   "cell_type": "code",
   "execution_count": null,
   "metadata": {},
   "outputs": [],
   "source": [
    "xAxis = [x/16000.0 for x in range(0,frameSize)]\n",
    "\n",
    "fig, axs = plt.subplots(4,1)\n",
    "\n",
    "# Vyplotit jeden rámec tone mask off\n",
    "axs[0].set_title(\"Rámec 1\")\n",
    "axs[0].plot(xAxis, TMFfirst)\n",
    "axs[1].set_title(\"Centrální klipování s 60%\")\n",
    "axs[1].plot(xAxis, centralClipping(TMFcent[targetStart:targetStart+frameSize]))\n",
    "\n",
    "black_line = mlines.Line2D([], [], color='black', label='Práh')\n",
    "red_line = mlines.Line2D([], [], color='red', label='Lag')\n",
    "axs[2].set_title(\"Autokorelace s prahem 500Hz\")\n",
    "axs[2].plot(TMFcorr[targetFrameIndex])\n",
    "axs[2].axvline(minLag, color='black')\n",
    "axs[2].axvline(maxIndex, color='red')\n",
    "axs[2].legend(bbox_to_anchor=(1, 1), handles=[red_line, black_line])\n",
    "\n",
    "axs[3].set_title(\"Základní frekvence rámců\")\n",
    "axs[3].plot(TMFfreqs, label=\"Bez roušky\")\n",
    "axs[3].plot(TMNfreqs, label=\"S rouškou\")\n",
    "axs[3].legend()\n",
    "\n",
    "plt.tight_layout()"
   ]
  },
  {
   "source": [
    "## Střední hodnota a rozptyl základní frekvence"
   ],
   "cell_type": "markdown",
   "metadata": {}
  },
  {
   "cell_type": "code",
   "execution_count": null,
   "metadata": {},
   "outputs": [],
   "source": [
    "print(\"Střední hodnota bez roušky: \", np.mean(TMFfreqs))\n",
    "print(\"Střední hodnota s rouškou: \", np.mean(TMNfreqs), \"\\n\")\n",
    "\n",
    "print(\"Rozptyl bez roušky: \", np.var(TMFfreqs))\n",
    "print(\"Rozptyl s rouškou: \", np.var(TMNfreqs))"
   ]
  },
  {
   "source": [
    "Minimální hodnota, o kterou se frekvence změní je 16000/319. Velikost změny by se dala zmenšit, kdybychom použili delší rámce, nebo signál (třeba jen simulovaně) nadvzrokovali."
   ],
   "cell_type": "markdown",
   "metadata": {}
  }
 ]
}